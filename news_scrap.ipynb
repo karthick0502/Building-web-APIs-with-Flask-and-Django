{
 "cells": [
  {
   "cell_type": "markdown",
   "id": "current-albania",
   "metadata": {},
   "source": [
    "# News Aggregator web App"
   ]
  },
  {
   "cell_type": "code",
   "execution_count": null,
   "id": "regional-burton",
   "metadata": {},
   "outputs": [],
   "source": []
  },
  {
   "cell_type": "code",
   "execution_count": null,
   "id": "standard-banner",
   "metadata": {},
   "outputs": [],
   "source": []
  },
  {
   "cell_type": "code",
   "execution_count": 62,
   "id": "conceptual-running",
   "metadata": {},
   "outputs": [],
   "source": [
    "from bs4 import BeautifulSoup\n",
    "import requests\n",
    "import pandas as pd\n",
    "from pandas import DataFrame"
   ]
  },
  {
   "cell_type": "code",
   "execution_count": null,
   "id": "literary-occurrence",
   "metadata": {},
   "outputs": [],
   "source": []
  },
  {
   "cell_type": "markdown",
   "id": "physical-testimony",
   "metadata": {},
   "source": [
    "## scrap news from BBC"
   ]
  },
  {
   "cell_type": "code",
   "execution_count": null,
   "id": "adaptive-shepherd",
   "metadata": {},
   "outputs": [],
   "source": []
  },
  {
   "cell_type": "code",
   "execution_count": 63,
   "id": "cultural-french",
   "metadata": {},
   "outputs": [],
   "source": [
    "bbc_headlines=[]\n",
    "bbc_urls=[]\n",
    "bbc_images=[]\n",
    "bbc_summary=[]\n",
    "\n",
    "source_page = 'https://www.bbc.com/news/live/world-asia-india-47640058/page/'\n",
    "\n",
    "for page in range(1,3):\n",
    "    web_page=source_page+str(page)\n",
    "    response=requests.get(web_page).text\n",
    "    soup = BeautifulSoup(response, 'lxml')\n",
    "\n",
    "    for news in soup.find_all('li', class_='lx-stream__post-container'):\n",
    "        try:\n",
    "            headlines = news.article.h3.text\n",
    "            links=news.article.header.h3.a['href']\n",
    "            urls= f'https://www.bbc.com{links}'\n",
    "            images=news.img['src']\n",
    "            summary=news.article.find('p', class_='lx-stream-related-story--summary').text\n",
    "        except Exception as e:\n",
    "            headlines=None\n",
    "            urls=None\n",
    "            images=None\n",
    "            summary=None\n",
    "        bbc_headlines.append(headlines)\n",
    "        bbc_urls.append(urls)\n",
    "        bbc_images.append(images)\n",
    "        bbc_summary.append(summary)\n",
    "\n",
    "data={'headlines' : bbc_headlines, 'urls' : bbc_urls, 'images' : bbc_images, 'summary' : bbc_summary}\n",
    "\n",
    "bbc_df=pd.DataFrame(data, columns=data.keys())"
   ]
  },
  {
   "cell_type": "code",
   "execution_count": 64,
   "id": "threatened-linux",
   "metadata": {},
   "outputs": [
    {
     "data": {
      "text/html": [
       "<div>\n",
       "<style scoped>\n",
       "    .dataframe tbody tr th:only-of-type {\n",
       "        vertical-align: middle;\n",
       "    }\n",
       "\n",
       "    .dataframe tbody tr th {\n",
       "        vertical-align: top;\n",
       "    }\n",
       "\n",
       "    .dataframe thead th {\n",
       "        text-align: right;\n",
       "    }\n",
       "</style>\n",
       "<table border=\"1\" class=\"dataframe\">\n",
       "  <thead>\n",
       "    <tr style=\"text-align: right;\">\n",
       "      <th></th>\n",
       "      <th>headlines</th>\n",
       "      <th>urls</th>\n",
       "      <th>images</th>\n",
       "      <th>summary</th>\n",
       "    </tr>\n",
       "  </thead>\n",
       "  <tbody>\n",
       "    <tr>\n",
       "      <th>0</th>\n",
       "      <td>Australian flight arrives half empty from India</td>\n",
       "      <td>https://www.bbc.com/news/world-australia-57126041</td>\n",
       "      <td>https://ichef.bbci.co.uk/live-experience/cps/3...</td>\n",
       "      <td>Many of the intended passengers on the repatri...</td>\n",
       "    </tr>\n",
       "    <tr>\n",
       "      <th>1</th>\n",
       "      <td>None</td>\n",
       "      <td>None</td>\n",
       "      <td>None</td>\n",
       "      <td>None</td>\n",
       "    </tr>\n",
       "    <tr>\n",
       "      <th>2</th>\n",
       "      <td>How India's vaccine drive went horribly wrong</td>\n",
       "      <td>https://www.bbc.com/news/world-asia-india-5700...</td>\n",
       "      <td>https://ichef.bbci.co.uk/live-experience/cps/3...</td>\n",
       "      <td>A botched-up plan for procuring jabs has dried...</td>\n",
       "    </tr>\n",
       "    <tr>\n",
       "      <th>3</th>\n",
       "      <td>None</td>\n",
       "      <td>None</td>\n",
       "      <td>None</td>\n",
       "      <td>None</td>\n",
       "    </tr>\n",
       "    <tr>\n",
       "      <th>4</th>\n",
       "      <td>How Indian law stops NGOs giving out Covid aid</td>\n",
       "      <td>https://www.bbc.com/news/world-asia-india-5709...</td>\n",
       "      <td>https://ichef.bbci.co.uk/live-experience/cps/3...</td>\n",
       "      <td>NGOs tell BBC Newsnight they're unable to send...</td>\n",
       "    </tr>\n",
       "  </tbody>\n",
       "</table>\n",
       "</div>"
      ],
      "text/plain": [
       "                                         headlines  \\\n",
       "0  Australian flight arrives half empty from India   \n",
       "1                                             None   \n",
       "2    How India's vaccine drive went horribly wrong   \n",
       "3                                             None   \n",
       "4   How Indian law stops NGOs giving out Covid aid   \n",
       "\n",
       "                                                urls  \\\n",
       "0  https://www.bbc.com/news/world-australia-57126041   \n",
       "1                                               None   \n",
       "2  https://www.bbc.com/news/world-asia-india-5700...   \n",
       "3                                               None   \n",
       "4  https://www.bbc.com/news/world-asia-india-5709...   \n",
       "\n",
       "                                              images  \\\n",
       "0  https://ichef.bbci.co.uk/live-experience/cps/3...   \n",
       "1                                               None   \n",
       "2  https://ichef.bbci.co.uk/live-experience/cps/3...   \n",
       "3                                               None   \n",
       "4  https://ichef.bbci.co.uk/live-experience/cps/3...   \n",
       "\n",
       "                                             summary  \n",
       "0  Many of the intended passengers on the repatri...  \n",
       "1                                               None  \n",
       "2  A botched-up plan for procuring jabs has dried...  \n",
       "3                                               None  \n",
       "4  NGOs tell BBC Newsnight they're unable to send...  "
      ]
     },
     "execution_count": 64,
     "metadata": {},
     "output_type": "execute_result"
    }
   ],
   "source": [
    "bbc_df.head()"
   ]
  },
  {
   "cell_type": "code",
   "execution_count": null,
   "id": "blessed-stand",
   "metadata": {},
   "outputs": [],
   "source": []
  },
  {
   "cell_type": "code",
   "execution_count": 65,
   "id": "anticipated-forty",
   "metadata": {},
   "outputs": [
    {
     "data": {
      "text/plain": [
       "(40, 4)"
      ]
     },
     "execution_count": 65,
     "metadata": {},
     "output_type": "execute_result"
    }
   ],
   "source": [
    "bbc_df.shape"
   ]
  },
  {
   "cell_type": "code",
   "execution_count": null,
   "id": "crucial-ocean",
   "metadata": {},
   "outputs": [],
   "source": []
  },
  {
   "cell_type": "code",
   "execution_count": null,
   "id": "piano-senate",
   "metadata": {},
   "outputs": [],
   "source": []
  },
  {
   "cell_type": "code",
   "execution_count": null,
   "id": "forward-mounting",
   "metadata": {},
   "outputs": [],
   "source": []
  },
  {
   "cell_type": "code",
   "execution_count": null,
   "id": "major-loading",
   "metadata": {},
   "outputs": [],
   "source": []
  },
  {
   "cell_type": "code",
   "execution_count": 66,
   "id": "protecting-community",
   "metadata": {},
   "outputs": [
    {
     "data": {
      "text/plain": [
       "headlines    13\n",
       "urls         13\n",
       "images       13\n",
       "summary      13\n",
       "dtype: int64"
      ]
     },
     "execution_count": 66,
     "metadata": {},
     "output_type": "execute_result"
    }
   ],
   "source": [
    "bbc_df.isnull().sum()"
   ]
  },
  {
   "cell_type": "code",
   "execution_count": 67,
   "id": "ethical-divide",
   "metadata": {},
   "outputs": [],
   "source": [
    "new_bbc_df=bbc_df.dropna(how='any',inplace=False)"
   ]
  },
  {
   "cell_type": "code",
   "execution_count": 68,
   "id": "infinite-ministry",
   "metadata": {},
   "outputs": [
    {
     "data": {
      "text/plain": [
       "headlines    0\n",
       "urls         0\n",
       "images       0\n",
       "summary      0\n",
       "dtype: int64"
      ]
     },
     "execution_count": 68,
     "metadata": {},
     "output_type": "execute_result"
    }
   ],
   "source": [
    "new_bbc_df.isnull().sum()"
   ]
  },
  {
   "cell_type": "code",
   "execution_count": 69,
   "id": "convertible-cabinet",
   "metadata": {},
   "outputs": [],
   "source": [
    "bd= new_bbc_df"
   ]
  },
  {
   "cell_type": "code",
   "execution_count": 70,
   "id": "wired-telescope",
   "metadata": {},
   "outputs": [
    {
     "data": {
      "text/plain": [
       "(27, 4)"
      ]
     },
     "execution_count": 70,
     "metadata": {},
     "output_type": "execute_result"
    }
   ],
   "source": [
    "bd.shape"
   ]
  },
  {
   "cell_type": "code",
   "execution_count": null,
   "id": "comprehensive-operation",
   "metadata": {},
   "outputs": [],
   "source": []
  },
  {
   "cell_type": "code",
   "execution_count": null,
   "id": "individual-business",
   "metadata": {},
   "outputs": [],
   "source": []
  },
  {
   "cell_type": "code",
   "execution_count": null,
   "id": "wrong-magic",
   "metadata": {},
   "outputs": [],
   "source": []
  },
  {
   "cell_type": "code",
   "execution_count": null,
   "id": "unusual-testament",
   "metadata": {},
   "outputs": [],
   "source": []
  },
  {
   "cell_type": "code",
   "execution_count": null,
   "id": "challenging-vertex",
   "metadata": {},
   "outputs": [],
   "source": []
  },
  {
   "cell_type": "markdown",
   "id": "liable-supervisor",
   "metadata": {},
   "source": [
    "## scrap news from times of india"
   ]
  },
  {
   "cell_type": "code",
   "execution_count": null,
   "id": "regular-removal",
   "metadata": {},
   "outputs": [],
   "source": []
  },
  {
   "cell_type": "code",
   "execution_count": 196,
   "id": "basic-custody",
   "metadata": {},
   "outputs": [],
   "source": [
    "toi_news_hints=[]\n",
    "toi_urls=[]\n",
    "\n",
    "toi_source_page = 'https://timesofindia.indiatimes.com/india'\n",
    "\n",
    "for page in range(1,3):\n",
    "    if(page==1):\n",
    "        toi_web_page=toi_source_page\n",
    "    else:\n",
    "        toi_web_page=toi_source_page+'/'+str(page)\n",
    "    response=requests.get(toi_web_page).text\n",
    "    toi_soup=BeautifulSoup(response, 'lxml')\n",
    "    \n",
    "    toi_news_list=toi_soup.find_all('ul',class_=['top-newslist clearfix','list5 clearfix'])\n",
    "    \n",
    "    for separation in toi_news_list:\n",
    "        for summary in separation.find_all('li'):            \n",
    "            news_hint=summary.find('span',class_='w_tle').a.text\n",
    "            links=summary.find('span',class_='w_tle').a['href']\n",
    "            urls=f'https://timesofindia.indiatimes.com{links}'\n",
    "            \n",
    "            toi_news_hints.append(news_hint)\n",
    "            toi_urls.append(urls)\n",
    "            \n",
    "data={'toi_news':toi_news_hints,'toi_urls':toi_urls}\n",
    "\n",
    "toi_df=pd.DataFrame(data, columns=data.keys())"
   ]
  },
  {
   "cell_type": "code",
   "execution_count": 197,
   "id": "informational-broadway",
   "metadata": {},
   "outputs": [
    {
     "data": {
      "text/html": [
       "<div>\n",
       "<style scoped>\n",
       "    .dataframe tbody tr th:only-of-type {\n",
       "        vertical-align: middle;\n",
       "    }\n",
       "\n",
       "    .dataframe tbody tr th {\n",
       "        vertical-align: top;\n",
       "    }\n",
       "\n",
       "    .dataframe thead th {\n",
       "        text-align: right;\n",
       "    }\n",
       "</style>\n",
       "<table border=\"1\" class=\"dataframe\">\n",
       "  <thead>\n",
       "    <tr style=\"text-align: right;\">\n",
       "      <th></th>\n",
       "      <th>toi_news</th>\n",
       "      <th>toi_urls</th>\n",
       "    </tr>\n",
       "  </thead>\n",
       "  <tbody>\n",
       "    <tr>\n",
       "      <th>0</th>\n",
       "      <td>Covid probably India's greatest challenge sinc...</td>\n",
       "      <td>https://timesofindia.indiatimes.com/india/covi...</td>\n",
       "    </tr>\n",
       "    <tr>\n",
       "      <th>1</th>\n",
       "      <td>Adhere to approved categories of frontline wor...</td>\n",
       "      <td>https://timesofindia.indiatimes.com/india/adhe...</td>\n",
       "    </tr>\n",
       "    <tr>\n",
       "      <th>2</th>\n",
       "      <td>Cyclone Tauktae: IAF keeps 16 transport aircra...</td>\n",
       "      <td>https://timesofindia.indiatimes.com/india/cycl...</td>\n",
       "    </tr>\n",
       "    <tr>\n",
       "      <th>3</th>\n",
       "      <td>SII doing best to ramp up Covid-19 vaccine pro...</td>\n",
       "      <td>https://timesofindia.indiatimes.com/india/sii-...</td>\n",
       "    </tr>\n",
       "    <tr>\n",
       "      <th>4</th>\n",
       "      <td>'Tauktae' to make landfall near Dwarka on Tues...</td>\n",
       "      <td>https://timesofindia.indiatimes.com/india/tauk...</td>\n",
       "    </tr>\n",
       "    <tr>\n",
       "      <th>...</th>\n",
       "      <td>...</td>\n",
       "      <td>...</td>\n",
       "    </tr>\n",
       "    <tr>\n",
       "      <th>95</th>\n",
       "      <td>Two centuries of vaccines — and we are still l...</td>\n",
       "      <td>https://timesofindia.indiatimes.com/india/two-...</td>\n",
       "    </tr>\n",
       "    <tr>\n",
       "      <th>96</th>\n",
       "      <td>Why delay in vaccinating parents will hurt chi...</td>\n",
       "      <td>https://timesofindia.indiatimes.com/india/why-...</td>\n",
       "    </tr>\n",
       "    <tr>\n",
       "      <th>97</th>\n",
       "      <td>Lockdown: Tamil Nadu tightens curbs, reduces b...</td>\n",
       "      <td>https://timesofindia.indiatimes.com/india/lock...</td>\n",
       "    </tr>\n",
       "    <tr>\n",
       "      <th>98</th>\n",
       "      <td>What is mucormycosis: Dos &amp; Don'ts, symptoms &amp;...</td>\n",
       "      <td>https://timesofindia.indiatimes.com/india/covi...</td>\n",
       "    </tr>\n",
       "    <tr>\n",
       "      <th>99</th>\n",
       "      <td>Cyclone Tauktae may intensify into 'very sever...</td>\n",
       "      <td>https://timesofindia.indiatimes.com/india/tauk...</td>\n",
       "    </tr>\n",
       "  </tbody>\n",
       "</table>\n",
       "<p>100 rows × 2 columns</p>\n",
       "</div>"
      ],
      "text/plain": [
       "                                             toi_news  \\\n",
       "0   Covid probably India's greatest challenge sinc...   \n",
       "1   Adhere to approved categories of frontline wor...   \n",
       "2   Cyclone Tauktae: IAF keeps 16 transport aircra...   \n",
       "3   SII doing best to ramp up Covid-19 vaccine pro...   \n",
       "4   'Tauktae' to make landfall near Dwarka on Tues...   \n",
       "..                                                ...   \n",
       "95  Two centuries of vaccines — and we are still l...   \n",
       "96  Why delay in vaccinating parents will hurt chi...   \n",
       "97  Lockdown: Tamil Nadu tightens curbs, reduces b...   \n",
       "98  What is mucormycosis: Dos & Don'ts, symptoms &...   \n",
       "99  Cyclone Tauktae may intensify into 'very sever...   \n",
       "\n",
       "                                             toi_urls  \n",
       "0   https://timesofindia.indiatimes.com/india/covi...  \n",
       "1   https://timesofindia.indiatimes.com/india/adhe...  \n",
       "2   https://timesofindia.indiatimes.com/india/cycl...  \n",
       "3   https://timesofindia.indiatimes.com/india/sii-...  \n",
       "4   https://timesofindia.indiatimes.com/india/tauk...  \n",
       "..                                                ...  \n",
       "95  https://timesofindia.indiatimes.com/india/two-...  \n",
       "96  https://timesofindia.indiatimes.com/india/why-...  \n",
       "97  https://timesofindia.indiatimes.com/india/lock...  \n",
       "98  https://timesofindia.indiatimes.com/india/covi...  \n",
       "99  https://timesofindia.indiatimes.com/india/tauk...  \n",
       "\n",
       "[100 rows x 2 columns]"
      ]
     },
     "execution_count": 197,
     "metadata": {},
     "output_type": "execute_result"
    }
   ],
   "source": [
    "toi_df"
   ]
  },
  {
   "cell_type": "code",
   "execution_count": null,
   "id": "advanced-reform",
   "metadata": {},
   "outputs": [],
   "source": []
  },
  {
   "cell_type": "code",
   "execution_count": null,
   "id": "varied-fusion",
   "metadata": {},
   "outputs": [],
   "source": []
  },
  {
   "cell_type": "code",
   "execution_count": null,
   "id": "ongoing-fundamentals",
   "metadata": {},
   "outputs": [],
   "source": []
  },
  {
   "cell_type": "code",
   "execution_count": null,
   "id": "stopped-decrease",
   "metadata": {},
   "outputs": [],
   "source": []
  },
  {
   "cell_type": "code",
   "execution_count": null,
   "id": "interim-polish",
   "metadata": {},
   "outputs": [],
   "source": []
  },
  {
   "cell_type": "code",
   "execution_count": null,
   "id": "passive-option",
   "metadata": {},
   "outputs": [],
   "source": []
  },
  {
   "cell_type": "code",
   "execution_count": null,
   "id": "facial-treatment",
   "metadata": {},
   "outputs": [],
   "source": []
  },
  {
   "cell_type": "code",
   "execution_count": null,
   "id": "funky-milan",
   "metadata": {},
   "outputs": [],
   "source": []
  },
  {
   "cell_type": "code",
   "execution_count": null,
   "id": "improved-andrew",
   "metadata": {},
   "outputs": [],
   "source": []
  },
  {
   "cell_type": "code",
   "execution_count": null,
   "id": "regional-share",
   "metadata": {},
   "outputs": [],
   "source": []
  },
  {
   "cell_type": "code",
   "execution_count": null,
   "id": "changed-hunter",
   "metadata": {},
   "outputs": [],
   "source": []
  }
 ],
 "metadata": {
  "kernelspec": {
   "display_name": "Python 3",
   "language": "python",
   "name": "python3"
  },
  "language_info": {
   "codemirror_mode": {
    "name": "ipython",
    "version": 3
   },
   "file_extension": ".py",
   "mimetype": "text/x-python",
   "name": "python",
   "nbconvert_exporter": "python",
   "pygments_lexer": "ipython3",
   "version": "3.9.2"
  }
 },
 "nbformat": 4,
 "nbformat_minor": 5
}
